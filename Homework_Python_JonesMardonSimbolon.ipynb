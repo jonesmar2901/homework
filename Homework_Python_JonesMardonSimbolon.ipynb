{
 "cells": [
  {
   "cell_type": "markdown",
   "metadata": {
    "colab_type": "text",
    "id": "hRLLSZO02Zmr"
   },
   "source": [
    "# Homework : Basic Python Programming\n",
    "<br> Description: Create a Jupyter Notebook or Google Collabs to answer the following questions\n",
    "<br> Author: Jones Mardon Simbolon \n",
    "<br> Date : 07 October 2019 \n",
    "<br> Source : [GooglePlay](https://raw.githubusercontent.com/firmansyah2308/homework_basic_programming/master/googleplaystore.csv)"
   ]
  },
  {
   "cell_type": "code",
   "execution_count": 2,
   "metadata": {
    "colab": {},
    "colab_type": "code",
    "id": "rY2ds1rszUfT"
   },
   "outputs": [],
   "source": [
    "import pandas as pd\n",
    "import numpy as np"
   ]
  },
  {
   "cell_type": "code",
   "execution_count": 4,
   "metadata": {
    "colab": {
     "base_uri": "https://localhost:8080/",
     "height": 580
    },
    "colab_type": "code",
    "id": "zEQ4E8C-16L8",
    "outputId": "f8520737-607f-433e-fd68-2c7729a3ca3d"
   },
   "outputs": [
    {
     "data": {
      "text/html": [
       "<div>\n",
       "<style scoped>\n",
       "    .dataframe tbody tr th:only-of-type {\n",
       "        vertical-align: middle;\n",
       "    }\n",
       "\n",
       "    .dataframe tbody tr th {\n",
       "        vertical-align: top;\n",
       "    }\n",
       "\n",
       "    .dataframe thead th {\n",
       "        text-align: right;\n",
       "    }\n",
       "</style>\n",
       "<table border=\"1\" class=\"dataframe\">\n",
       "  <thead>\n",
       "    <tr style=\"text-align: right;\">\n",
       "      <th></th>\n",
       "      <th>App</th>\n",
       "      <th>Category</th>\n",
       "      <th>Rating</th>\n",
       "      <th>Reviews</th>\n",
       "      <th>Size</th>\n",
       "      <th>Installs</th>\n",
       "      <th>Type</th>\n",
       "      <th>Price</th>\n",
       "      <th>Content Rating</th>\n",
       "      <th>Genres</th>\n",
       "      <th>Last Updated</th>\n",
       "      <th>Current Ver</th>\n",
       "      <th>Android Ver</th>\n",
       "    </tr>\n",
       "  </thead>\n",
       "  <tbody>\n",
       "    <tr>\n",
       "      <th>10831</th>\n",
       "      <td>payermonstationnement.fr</td>\n",
       "      <td>MAPS_AND_NAVIGATION</td>\n",
       "      <td>NaN</td>\n",
       "      <td>38</td>\n",
       "      <td>9.8M</td>\n",
       "      <td>5,000+</td>\n",
       "      <td>Free</td>\n",
       "      <td>0</td>\n",
       "      <td>Everyone</td>\n",
       "      <td>Maps &amp; Navigation</td>\n",
       "      <td>June 13, 2018</td>\n",
       "      <td>2.0.148.0</td>\n",
       "      <td>4.0 and up</td>\n",
       "    </tr>\n",
       "    <tr>\n",
       "      <th>10832</th>\n",
       "      <td>FR Tides</td>\n",
       "      <td>WEATHER</td>\n",
       "      <td>3.8</td>\n",
       "      <td>1195</td>\n",
       "      <td>582k</td>\n",
       "      <td>100,000+</td>\n",
       "      <td>Free</td>\n",
       "      <td>0</td>\n",
       "      <td>Everyone</td>\n",
       "      <td>Weather</td>\n",
       "      <td>February 16, 2014</td>\n",
       "      <td>6.0</td>\n",
       "      <td>2.1 and up</td>\n",
       "    </tr>\n",
       "    <tr>\n",
       "      <th>10833</th>\n",
       "      <td>Chemin (fr)</td>\n",
       "      <td>BOOKS_AND_REFERENCE</td>\n",
       "      <td>4.8</td>\n",
       "      <td>44</td>\n",
       "      <td>619k</td>\n",
       "      <td>1,000+</td>\n",
       "      <td>Free</td>\n",
       "      <td>0</td>\n",
       "      <td>Everyone</td>\n",
       "      <td>Books &amp; Reference</td>\n",
       "      <td>March 23, 2014</td>\n",
       "      <td>0.8</td>\n",
       "      <td>2.2 and up</td>\n",
       "    </tr>\n",
       "    <tr>\n",
       "      <th>10834</th>\n",
       "      <td>FR Calculator</td>\n",
       "      <td>FAMILY</td>\n",
       "      <td>4.0</td>\n",
       "      <td>7</td>\n",
       "      <td>2.6M</td>\n",
       "      <td>500+</td>\n",
       "      <td>Free</td>\n",
       "      <td>0</td>\n",
       "      <td>Everyone</td>\n",
       "      <td>Education</td>\n",
       "      <td>June 18, 2017</td>\n",
       "      <td>1.0.0</td>\n",
       "      <td>4.1 and up</td>\n",
       "    </tr>\n",
       "    <tr>\n",
       "      <th>10835</th>\n",
       "      <td>FR Forms</td>\n",
       "      <td>BUSINESS</td>\n",
       "      <td>NaN</td>\n",
       "      <td>0</td>\n",
       "      <td>9.6M</td>\n",
       "      <td>10+</td>\n",
       "      <td>Free</td>\n",
       "      <td>0</td>\n",
       "      <td>Everyone</td>\n",
       "      <td>Business</td>\n",
       "      <td>September 29, 2016</td>\n",
       "      <td>1.1.5</td>\n",
       "      <td>4.0 and up</td>\n",
       "    </tr>\n",
       "    <tr>\n",
       "      <th>10836</th>\n",
       "      <td>Sya9a Maroc - FR</td>\n",
       "      <td>FAMILY</td>\n",
       "      <td>4.5</td>\n",
       "      <td>38</td>\n",
       "      <td>53M</td>\n",
       "      <td>5,000+</td>\n",
       "      <td>Free</td>\n",
       "      <td>0</td>\n",
       "      <td>Everyone</td>\n",
       "      <td>Education</td>\n",
       "      <td>July 25, 2017</td>\n",
       "      <td>1.48</td>\n",
       "      <td>4.1 and up</td>\n",
       "    </tr>\n",
       "    <tr>\n",
       "      <th>10837</th>\n",
       "      <td>Fr. Mike Schmitz Audio Teachings</td>\n",
       "      <td>FAMILY</td>\n",
       "      <td>5.0</td>\n",
       "      <td>4</td>\n",
       "      <td>3.6M</td>\n",
       "      <td>100+</td>\n",
       "      <td>Free</td>\n",
       "      <td>0</td>\n",
       "      <td>Everyone</td>\n",
       "      <td>Education</td>\n",
       "      <td>July 6, 2018</td>\n",
       "      <td>1.0</td>\n",
       "      <td>4.1 and up</td>\n",
       "    </tr>\n",
       "    <tr>\n",
       "      <th>10838</th>\n",
       "      <td>Parkinson Exercices FR</td>\n",
       "      <td>MEDICAL</td>\n",
       "      <td>NaN</td>\n",
       "      <td>3</td>\n",
       "      <td>9.5M</td>\n",
       "      <td>1,000+</td>\n",
       "      <td>Free</td>\n",
       "      <td>0</td>\n",
       "      <td>Everyone</td>\n",
       "      <td>Medical</td>\n",
       "      <td>January 20, 2017</td>\n",
       "      <td>1.0</td>\n",
       "      <td>2.2 and up</td>\n",
       "    </tr>\n",
       "    <tr>\n",
       "      <th>10839</th>\n",
       "      <td>The SCP Foundation DB fr nn5n</td>\n",
       "      <td>BOOKS_AND_REFERENCE</td>\n",
       "      <td>4.5</td>\n",
       "      <td>114</td>\n",
       "      <td>Varies with device</td>\n",
       "      <td>1,000+</td>\n",
       "      <td>Free</td>\n",
       "      <td>0</td>\n",
       "      <td>Mature 17+</td>\n",
       "      <td>Books &amp; Reference</td>\n",
       "      <td>January 19, 2015</td>\n",
       "      <td>Varies with device</td>\n",
       "      <td>Varies with device</td>\n",
       "    </tr>\n",
       "    <tr>\n",
       "      <th>10840</th>\n",
       "      <td>iHoroscope - 2018 Daily Horoscope &amp; Astrology</td>\n",
       "      <td>LIFESTYLE</td>\n",
       "      <td>4.5</td>\n",
       "      <td>398307</td>\n",
       "      <td>19M</td>\n",
       "      <td>10,000,000+</td>\n",
       "      <td>Free</td>\n",
       "      <td>0</td>\n",
       "      <td>Everyone</td>\n",
       "      <td>Lifestyle</td>\n",
       "      <td>July 25, 2018</td>\n",
       "      <td>Varies with device</td>\n",
       "      <td>Varies with device</td>\n",
       "    </tr>\n",
       "  </tbody>\n",
       "</table>\n",
       "</div>"
      ],
      "text/plain": [
       "                                                 App             Category  \\\n",
       "10831                       payermonstationnement.fr  MAPS_AND_NAVIGATION   \n",
       "10832                                       FR Tides              WEATHER   \n",
       "10833                                    Chemin (fr)  BOOKS_AND_REFERENCE   \n",
       "10834                                  FR Calculator               FAMILY   \n",
       "10835                                       FR Forms             BUSINESS   \n",
       "10836                               Sya9a Maroc - FR               FAMILY   \n",
       "10837               Fr. Mike Schmitz Audio Teachings               FAMILY   \n",
       "10838                         Parkinson Exercices FR              MEDICAL   \n",
       "10839                  The SCP Foundation DB fr nn5n  BOOKS_AND_REFERENCE   \n",
       "10840  iHoroscope - 2018 Daily Horoscope & Astrology            LIFESTYLE   \n",
       "\n",
       "       Rating Reviews                Size     Installs  Type Price  \\\n",
       "10831     NaN      38                9.8M       5,000+  Free     0   \n",
       "10832     3.8    1195                582k     100,000+  Free     0   \n",
       "10833     4.8      44                619k       1,000+  Free     0   \n",
       "10834     4.0       7                2.6M         500+  Free     0   \n",
       "10835     NaN       0                9.6M          10+  Free     0   \n",
       "10836     4.5      38                 53M       5,000+  Free     0   \n",
       "10837     5.0       4                3.6M         100+  Free     0   \n",
       "10838     NaN       3                9.5M       1,000+  Free     0   \n",
       "10839     4.5     114  Varies with device       1,000+  Free     0   \n",
       "10840     4.5  398307                 19M  10,000,000+  Free     0   \n",
       "\n",
       "      Content Rating             Genres        Last Updated  \\\n",
       "10831       Everyone  Maps & Navigation       June 13, 2018   \n",
       "10832       Everyone            Weather   February 16, 2014   \n",
       "10833       Everyone  Books & Reference      March 23, 2014   \n",
       "10834       Everyone          Education       June 18, 2017   \n",
       "10835       Everyone           Business  September 29, 2016   \n",
       "10836       Everyone          Education       July 25, 2017   \n",
       "10837       Everyone          Education        July 6, 2018   \n",
       "10838       Everyone            Medical    January 20, 2017   \n",
       "10839     Mature 17+  Books & Reference    January 19, 2015   \n",
       "10840       Everyone          Lifestyle       July 25, 2018   \n",
       "\n",
       "              Current Ver         Android Ver  \n",
       "10831           2.0.148.0          4.0 and up  \n",
       "10832                 6.0          2.1 and up  \n",
       "10833                 0.8          2.2 and up  \n",
       "10834               1.0.0          4.1 and up  \n",
       "10835               1.1.5          4.0 and up  \n",
       "10836                1.48          4.1 and up  \n",
       "10837                 1.0          4.1 and up  \n",
       "10838                 1.0          2.2 and up  \n",
       "10839  Varies with device  Varies with device  \n",
       "10840  Varies with device  Varies with device  "
      ]
     },
     "execution_count": 4,
     "metadata": {},
     "output_type": "execute_result"
    }
   ],
   "source": [
    "roti=pd.read_csv(\"https://raw.githubusercontent.com/firmansyah2308/homework_basic_programming/master/googleplaystore.csv\", encoding='latin1')\n",
    "roti.tail(10)"
   ]
  },
  {
   "cell_type": "markdown",
   "metadata": {
    "colab_type": "text",
    "id": "v-DMkFin7pa5"
   },
   "source": [
    "## Q1. How many rows and columns?\n",
    "* There are 10,841 columns and 13 rows"
   ]
  },
  {
   "cell_type": "code",
   "execution_count": 5,
   "metadata": {
    "colab": {
     "base_uri": "https://localhost:8080/",
     "height": 51
    },
    "colab_type": "code",
    "id": "HcNpqSbj8BH0",
    "outputId": "0cae645d-5e62-4326-bf84-8fb7520ae159"
   },
   "outputs": [
    {
     "name": "stdout",
     "output_type": "stream",
     "text": [
      "column:  13\n",
      "row:  10841\n"
     ]
    }
   ],
   "source": [
    "print (\"column: \", len(roti.columns))\n",
    "print (\"row: \", len(roti))"
   ]
  },
  {
   "cell_type": "markdown",
   "metadata": {
    "colab_type": "text",
    "id": "P36yPw7L94Ns"
   },
   "source": [
    "## Q2. How many unique apps categories reflected in the dataset? \n",
    "* There are 34 unique apps categories"
   ]
  },
  {
   "cell_type": "code",
   "execution_count": 6,
   "metadata": {
    "colab": {
     "base_uri": "https://localhost:8080/",
     "height": 34
    },
    "colab_type": "code",
    "id": "sDMa7DrU-CME",
    "outputId": "714afa89-228b-494a-b0ad-f1d209535542"
   },
   "outputs": [
    {
     "data": {
      "text/plain": [
       "34"
      ]
     },
     "execution_count": 6,
     "metadata": {},
     "output_type": "execute_result"
    }
   ],
   "source": [
    "len(roti[\"Category\"].unique().tolist())"
   ]
  },
  {
   "cell_type": "markdown",
   "metadata": {
    "colab_type": "text",
    "id": "TuJDtFF_-X2_"
   },
   "source": [
    "## Q3. How many unique genres according to the dataset?\n",
    "* There are 120 unique genres"
   ]
  },
  {
   "cell_type": "code",
   "execution_count": 10,
   "metadata": {
    "colab": {
     "base_uri": "https://localhost:8080/",
     "height": 34
    },
    "colab_type": "code",
    "id": "f3P652p6-ehu",
    "outputId": "39ecebb0-d244-4f28-dcc8-f6a17e7df06e"
   },
   "outputs": [
    {
     "data": {
      "text/plain": [
       "119"
      ]
     },
     "execution_count": 10,
     "metadata": {},
     "output_type": "execute_result"
    }
   ],
   "source": [
    "len(roti[\"Genres\"].unique().tolist())"
   ]
  },
  {
   "cell_type": "markdown",
   "metadata": {
    "colab_type": "text",
    "id": "QrTe8MH0-t1A"
   },
   "source": [
    "## Q4. Which code is appropriate to drop duplicate values in 'App' column and remove its rows in Python? "
   ]
  },
  {
   "cell_type": "code",
   "execution_count": 11,
   "metadata": {
    "colab": {
     "base_uri": "https://localhost:8080/",
     "height": 34
    },
    "colab_type": "code",
    "id": "Lf-ui9DB_GFy",
    "outputId": "545cde15-44b5-4246-fc62-2fd8b8af7595"
   },
   "outputs": [
    {
     "data": {
      "text/plain": [
       "9660"
      ]
     },
     "execution_count": 11,
     "metadata": {},
     "output_type": "execute_result"
    }
   ],
   "source": [
    "drop_duplicate = roti.drop_duplicates(subset='App', inplace=True)\n",
    "len(roti[\"App\"].unique().tolist())"
   ]
  },
  {
   "cell_type": "markdown",
   "metadata": {
    "colab_type": "text",
    "id": "yUcsaIziADGz"
   },
   "source": [
    "## Q5. How to remove character?"
   ]
  },
  {
   "cell_type": "code",
   "execution_count": 12,
   "metadata": {
    "colab": {
     "base_uri": "https://localhost:8080/",
     "height": 114
    },
    "colab_type": "code",
    "id": "f7y6BH1IAd8E",
    "outputId": "d3ba7f78-80d6-4ac0-e21d-33dc18f97c73"
   },
   "outputs": [
    {
     "data": {
      "text/html": [
       "<div>\n",
       "<style scoped>\n",
       "    .dataframe tbody tr th:only-of-type {\n",
       "        vertical-align: middle;\n",
       "    }\n",
       "\n",
       "    .dataframe tbody tr th {\n",
       "        vertical-align: top;\n",
       "    }\n",
       "\n",
       "    .dataframe thead th {\n",
       "        text-align: right;\n",
       "    }\n",
       "</style>\n",
       "<table border=\"1\" class=\"dataframe\">\n",
       "  <thead>\n",
       "    <tr style=\"text-align: right;\">\n",
       "      <th></th>\n",
       "      <th>App</th>\n",
       "      <th>Category</th>\n",
       "      <th>Rating</th>\n",
       "      <th>Reviews</th>\n",
       "      <th>Size</th>\n",
       "      <th>Installs</th>\n",
       "      <th>Type</th>\n",
       "      <th>Price</th>\n",
       "      <th>Content Rating</th>\n",
       "      <th>Genres</th>\n",
       "      <th>Last Updated</th>\n",
       "      <th>Current Ver</th>\n",
       "      <th>Android Ver</th>\n",
       "    </tr>\n",
       "  </thead>\n",
       "  <tbody>\n",
       "    <tr>\n",
       "      <th>10472</th>\n",
       "      <td>Life Made WI-Fi Touchscreen Photo Frame</td>\n",
       "      <td>1.9</td>\n",
       "      <td>19.0</td>\n",
       "      <td>3.0M</td>\n",
       "      <td>1,000+</td>\n",
       "      <td>Free</td>\n",
       "      <td>0</td>\n",
       "      <td>Everyone</td>\n",
       "      <td>NaN</td>\n",
       "      <td>February 11, 2018</td>\n",
       "      <td>1.0.19</td>\n",
       "      <td>4.0 and up</td>\n",
       "      <td>NaN</td>\n",
       "    </tr>\n",
       "  </tbody>\n",
       "</table>\n",
       "</div>"
      ],
      "text/plain": [
       "                                           App Category  Rating Reviews  \\\n",
       "10472  Life Made WI-Fi Touchscreen Photo Frame      1.9    19.0    3.0M   \n",
       "\n",
       "         Size Installs Type     Price Content Rating             Genres  \\\n",
       "10472  1,000+     Free    0  Everyone            NaN  February 11, 2018   \n",
       "\n",
       "      Last Updated Current Ver Android Ver  \n",
       "10472       1.0.19  4.0 and up         NaN  "
      ]
     },
     "execution_count": 12,
     "metadata": {},
     "output_type": "execute_result"
    }
   ],
   "source": [
    "roti[roti['Installs']=='Free']"
   ]
  },
  {
   "cell_type": "code",
   "execution_count": 13,
   "metadata": {
    "colab": {},
    "colab_type": "code",
    "id": "0MWN9mmXAnch"
   },
   "outputs": [],
   "source": [
    "roti = roti[roti['Installs'] != 'Free']\n",
    "roti['Installs'] = roti['Installs'].apply(lambda x: x.replace('+', '') if '+' in str(x) else x)\n",
    "roti['Installs'] = roti['Installs'].apply(lambda x: x.replace(',', '') if ',' in str(x) else x)"
   ]
  },
  {
   "cell_type": "code",
   "execution_count": 15,
   "metadata": {
    "colab": {
     "base_uri": "https://localhost:8080/",
     "height": 49
    },
    "colab_type": "code",
    "id": "W2SZKFPKA7U2",
    "outputId": "8d49aa86-19f1-448a-8611-13abf99fa3d5"
   },
   "outputs": [
    {
     "data": {
      "text/html": [
       "<div>\n",
       "<style scoped>\n",
       "    .dataframe tbody tr th:only-of-type {\n",
       "        vertical-align: middle;\n",
       "    }\n",
       "\n",
       "    .dataframe tbody tr th {\n",
       "        vertical-align: top;\n",
       "    }\n",
       "\n",
       "    .dataframe thead th {\n",
       "        text-align: right;\n",
       "    }\n",
       "</style>\n",
       "<table border=\"1\" class=\"dataframe\">\n",
       "  <thead>\n",
       "    <tr style=\"text-align: right;\">\n",
       "      <th></th>\n",
       "      <th>App</th>\n",
       "      <th>Category</th>\n",
       "      <th>Rating</th>\n",
       "      <th>Reviews</th>\n",
       "      <th>Size</th>\n",
       "      <th>Installs</th>\n",
       "      <th>Type</th>\n",
       "      <th>Price</th>\n",
       "      <th>Content Rating</th>\n",
       "      <th>Genres</th>\n",
       "      <th>Last Updated</th>\n",
       "      <th>Current Ver</th>\n",
       "      <th>Android Ver</th>\n",
       "    </tr>\n",
       "  </thead>\n",
       "  <tbody>\n",
       "  </tbody>\n",
       "</table>\n",
       "</div>"
      ],
      "text/plain": [
       "Empty DataFrame\n",
       "Columns: [App, Category, Rating, Reviews, Size, Installs, Type, Price, Content Rating, Genres, Last Updated, Current Ver, Android Ver]\n",
       "Index: []"
      ]
     },
     "execution_count": 15,
     "metadata": {},
     "output_type": "execute_result"
    }
   ],
   "source": [
    "roti[roti['Installs']=='Free']"
   ]
  },
  {
   "cell_type": "markdown",
   "metadata": {
    "colab_type": "text",
    "id": "F8i5JTMMBi1J"
   },
   "source": [
    "## Q6. Convert Data Type"
   ]
  },
  {
   "cell_type": "code",
   "execution_count": 16,
   "metadata": {
    "colab": {},
    "colab_type": "code",
    "id": "dNl1LO4XBrcH"
   },
   "outputs": [],
   "source": [
    "roti['Installs']=roti['Installs'].astype(int)"
   ]
  },
  {
   "cell_type": "code",
   "execution_count": 17,
   "metadata": {
    "colab": {
     "base_uri": "https://localhost:8080/",
     "height": 255
    },
    "colab_type": "code",
    "id": "8OQK3hszCKdM",
    "outputId": "d3d095d2-fc5e-41dc-ec4a-129c262fc2b5"
   },
   "outputs": [
    {
     "data": {
      "text/plain": [
       "App                object\n",
       "Category           object\n",
       "Rating            float64\n",
       "Reviews            object\n",
       "Size               object\n",
       "Installs            int32\n",
       "Type               object\n",
       "Price              object\n",
       "Content Rating     object\n",
       "Genres             object\n",
       "Last Updated       object\n",
       "Current Ver        object\n",
       "Android Ver        object\n",
       "dtype: object"
      ]
     },
     "execution_count": 17,
     "metadata": {},
     "output_type": "execute_result"
    }
   ],
   "source": [
    "roti.dtypes"
   ]
  },
  {
   "cell_type": "markdown",
   "metadata": {
    "colab_type": "text",
    "id": "qmsciVkoCVEc"
   },
   "source": [
    "## Q7. Match Apps and Category based on provided dataset!"
   ]
  },
  {
   "cell_type": "code",
   "execution_count": 18,
   "metadata": {
    "colab": {
     "base_uri": "https://localhost:8080/",
     "height": 561
    },
    "colab_type": "code",
    "id": "ps-phrOqCiFw",
    "outputId": "9ea49d14-e909-48ba-f6ca-d02e195777a6"
   },
   "outputs": [
    {
     "name": "stdout",
     "output_type": "stream",
     "text": [
      "                 App Category  Rating   Reviews Size    Installs  Type Price  \\\n",
      "1654  Subway Surfers     GAME     4.5  27722264  76M  1000000000  Free     0   \n",
      "\n",
      "     Content Rating  Genres   Last Updated Current Ver Android Ver  \n",
      "1654   Everyone 10+  Arcade  July 12, 2018      1.90.0  4.1 and up  \n",
      "                                                    App Category  Rating  \\\n",
      "8896  DU Battery Saver - Battery Charger & Battery Life    TOOLS     4.5   \n",
      "\n",
      "       Reviews Size   Installs  Type Price Content Rating Genres  \\\n",
      "8896  13479633  14M  100000000  Free     0       Everyone  Tools   \n",
      "\n",
      "      Last Updated Current Ver Android Ver  \n",
      "8896  June 5, 2018     4.8.7.8  4.0 and up  \n",
      "            App Category  Rating  Reviews                Size   Installs  \\\n",
      "2552  Pinterest   SOCIAL     4.6  4305441  Varies with device  100000000   \n",
      "\n",
      "      Type Price Content Rating  Genres    Last Updated         Current Ver  \\\n",
      "2552  Free     0           Teen  Social  August 3, 2018  Varies with device   \n",
      "\n",
      "             Android Ver  \n",
      "2552  Varies with device  \n",
      "              App Category  Rating  Reviews Size   Installs  Type Price  \\\n",
      "8445  FIFA Soccer   SPORTS     4.2  3909032  51M  100000000  Free     0   \n",
      "\n",
      "     Content Rating  Genres   Last Updated Current Ver Android Ver  \n",
      "8445       Everyone  Sports  July 31, 2018     10.5.00  4.1 and up  \n",
      "                               App            Category  Rating  Reviews  \\\n",
      "3755  Flipboard: News For Our Time  NEWS_AND_MAGAZINES     4.4  1284017   \n",
      "\n",
      "                    Size   Installs  Type Price Content Rating  \\\n",
      "3755  Varies with device  500000000  Free     0   Everyone 10+   \n",
      "\n",
      "                Genres    Last Updated         Current Ver         Android Ver  \n",
      "3755  News & Magazines  August 3, 2018  Varies with device  Varies with device  \n",
      "          App      Category  Rating  Reviews Size   Installs  Type Price  \\\n",
      "3473  Dropbox  PRODUCTIVITY     4.4  1861310  61M  500000000  Free     0   \n",
      "\n",
      "     Content Rating        Genres    Last Updated         Current Ver  \\\n",
      "3473       Everyone  Productivity  August 1, 2018  Varies with device   \n",
      "\n",
      "             Android Ver  \n",
      "3473  Varies with device  \n",
      "                    App       Category  Rating   Reviews                Size  \\\n",
      "336  WhatsApp Messenger  COMMUNICATION     4.4  69119316  Varies with device   \n",
      "\n",
      "       Installs  Type Price Content Rating         Genres    Last Updated  \\\n",
      "336  1000000000  Free     0       Everyone  Communication  August 3, 2018   \n",
      "\n",
      "            Current Ver         Android Ver  \n",
      "336  Varies with device  Varies with device  \n",
      "                                          App  Category  Rating Reviews Size  \\\n",
      "10253  File Commander - File Manager/Explorer  BUSINESS     4.3  758590  12M   \n",
      "\n",
      "        Installs  Type Price Content Rating    Genres    Last Updated  \\\n",
      "10253  100000000  Free     0       Everyone  Business  August 2, 2018   \n",
      "\n",
      "              Current Ver Android Ver  \n",
      "10253  Varies with device  4.1 and up  \n"
     ]
    }
   ],
   "source": [
    "print (roti[roti.App == 'Subway Surfers'])\n",
    "print (roti[roti.App == 'DU Battery Saver - Battery Charger & Battery Life'])\n",
    "print (roti[roti.App == 'Pinterest'])\n",
    "print (roti[roti.App == 'FIFA Soccer'])\n",
    "print (roti[roti.App == 'Flipboard: News For Our Time'])\n",
    "print (roti[roti.App == 'Dropbox'])\n",
    "print (roti[roti.App == 'WhatsApp Messenger'])\n",
    "print (roti[roti.App == 'File Commander - File Manager/Explorer'])"
   ]
  },
  {
   "cell_type": "markdown",
   "metadata": {
    "colab_type": "text",
    "id": "9QfBkCVrFSOL"
   },
   "source": [
    "## Q8. The following applications were installed by more than 1 billion users, EXCEPT?\n",
    "* That is Google Duo - High Quality Video Calls"
   ]
  },
  {
   "cell_type": "code",
   "execution_count": 19,
   "metadata": {
    "colab": {
     "base_uri": "https://localhost:8080/",
     "height": 408
    },
    "colab_type": "code",
    "id": "K7KAoAaTFbDV",
    "outputId": "a34e94bc-84f7-405b-ee41-20aaf0c6c1aa"
   },
   "outputs": [
    {
     "name": "stdout",
     "output_type": "stream",
     "text": [
      "                                                     App             Category  \\\n",
      "0         Photo Editor & Candy Camera & Grid & ScrapBook       ART_AND_DESIGN   \n",
      "1                                    Coloring book moana       ART_AND_DESIGN   \n",
      "2      U Launcher Lite â FREE Live Cool Themes, Hid...       ART_AND_DESIGN   \n",
      "3                                  Sketch - Draw & Paint       ART_AND_DESIGN   \n",
      "4                  Pixel Draw - Number Art Coloring Book       ART_AND_DESIGN   \n",
      "5                             Paper flowers instructions       ART_AND_DESIGN   \n",
      "6                Smoke Effect Photo Maker - Smoke Editor       ART_AND_DESIGN   \n",
      "7                                       Infinite Painter       ART_AND_DESIGN   \n",
      "8                                   Garden Coloring Book       ART_AND_DESIGN   \n",
      "9                          Kids Paint Free - Drawing Fun       ART_AND_DESIGN   \n",
      "10                               Text on Photo - Fonteee       ART_AND_DESIGN   \n",
      "11               Name Art Photo Editor - Focus n Filters       ART_AND_DESIGN   \n",
      "12                        Tattoo Name On My Photo Editor       ART_AND_DESIGN   \n",
      "13                                 Mandala Coloring Book       ART_AND_DESIGN   \n",
      "14       3D Color Pixel by Number - Sandbox Art Coloring       ART_AND_DESIGN   \n",
      "15                       Learn To Draw Kawaii Characters       ART_AND_DESIGN   \n",
      "16          Photo Designer - Write your name with shapes       ART_AND_DESIGN   \n",
      "17                              350 Diy Room Decor Ideas       ART_AND_DESIGN   \n",
      "18                         FlipaClip - Cartoon animation       ART_AND_DESIGN   \n",
      "19                                          ibis Paint X       ART_AND_DESIGN   \n",
      "20                           Logo Maker - Small Business       ART_AND_DESIGN   \n",
      "21             Boys Photo Editor - Six Pack & Men's Suit       ART_AND_DESIGN   \n",
      "22               Superheroes Wallpapers | 4K Backgrounds       ART_AND_DESIGN   \n",
      "23                                Mcqueen Coloring pages       ART_AND_DESIGN   \n",
      "24                           HD Mickey Minnie Wallpapers       ART_AND_DESIGN   \n",
      "25                            Harley Quinn wallpapers HD       ART_AND_DESIGN   \n",
      "26                         Colorfit - Drawing & Coloring       ART_AND_DESIGN   \n",
      "27                                 Animated Photo Editor       ART_AND_DESIGN   \n",
      "28                                 Pencil Sketch Drawing       ART_AND_DESIGN   \n",
      "29                       Easy Realistic Drawing Tutorial       ART_AND_DESIGN   \n",
      "...                                                  ...                  ...   \n",
      "10811                                        FR Plus 1.6    AUTO_AND_VEHICLES   \n",
      "10812                                      Fr Agnel Pune               FAMILY   \n",
      "10813                                     DICT.fr Mobile             BUSINESS   \n",
      "10814                               FR: My Secret Pets!                FAMILY   \n",
      "10815                          Golden Dictionary (FR-AR)  BOOKS_AND_REFERENCE   \n",
      "10816                                 FieldBi FR Offline             BUSINESS   \n",
      "10817                               HTC Sense Input - FR                TOOLS   \n",
      "10818                               Gold Quote - Gold.fr              FINANCE   \n",
      "10819                                          Fanfic-FR  BOOKS_AND_REFERENCE   \n",
      "10820                                    Fr. Daoud Lamei               FAMILY   \n",
      "10821                                            Poop FR               FAMILY   \n",
      "10822                                          PLMGSS FR         PRODUCTIVITY   \n",
      "10823                                       List iptv FR        VIDEO_PLAYERS   \n",
      "10824                                          Cardio-FR              MEDICAL   \n",
      "10825                                 Naruto & Boruto FR               SOCIAL   \n",
      "10826          Frim: get new friends on local chat rooms               SOCIAL   \n",
      "10827                                 Fr Agnel Ambarnath               FAMILY   \n",
      "10828                            Manga-FR - Anime Vostfr               COMICS   \n",
      "10829                     Bulgarian French Dictionary Fr  BOOKS_AND_REFERENCE   \n",
      "10830                                  News Minecraft.fr   NEWS_AND_MAGAZINES   \n",
      "10831                           payermonstationnement.fr  MAPS_AND_NAVIGATION   \n",
      "10832                                           FR Tides              WEATHER   \n",
      "10833                                        Chemin (fr)  BOOKS_AND_REFERENCE   \n",
      "10834                                      FR Calculator               FAMILY   \n",
      "10835                                           FR Forms             BUSINESS   \n",
      "10836                                   Sya9a Maroc - FR               FAMILY   \n",
      "10837                   Fr. Mike Schmitz Audio Teachings               FAMILY   \n",
      "10838                             Parkinson Exercices FR              MEDICAL   \n",
      "10839                      The SCP Foundation DB fr nn5n  BOOKS_AND_REFERENCE   \n",
      "10840      iHoroscope - 2018 Daily Horoscope & Astrology            LIFESTYLE   \n",
      "\n",
      "       Rating Reviews                Size  Installs  Type Price  \\\n",
      "0         4.1     159                 19M     10000  Free     0   \n",
      "1         3.9     967                 14M    500000  Free     0   \n",
      "2         4.7   87510                8.7M   5000000  Free     0   \n",
      "3         4.5  215644                 25M  50000000  Free     0   \n",
      "4         4.3     967                2.8M    100000  Free     0   \n",
      "5         4.4     167                5.6M     50000  Free     0   \n",
      "6         3.8     178                 19M     50000  Free     0   \n",
      "7         4.1   36815                 29M   1000000  Free     0   \n",
      "8         4.4   13791                 33M   1000000  Free     0   \n",
      "9         4.7     121                3.1M     10000  Free     0   \n",
      "10        4.4   13880                 28M   1000000  Free     0   \n",
      "11        4.4    8788                 12M   1000000  Free     0   \n",
      "12        4.2   44829                 20M  10000000  Free     0   \n",
      "13        4.6    4326                 21M    100000  Free     0   \n",
      "14        4.4    1518                 37M    100000  Free     0   \n",
      "15        3.2      55                2.7M      5000  Free     0   \n",
      "16        4.7    3632                5.5M    500000  Free     0   \n",
      "17        4.5      27                 17M     10000  Free     0   \n",
      "18        4.3  194216                 39M   5000000  Free     0   \n",
      "19        4.6  224399                 31M  10000000  Free     0   \n",
      "20        4.0     450                 14M    100000  Free     0   \n",
      "21        4.1     654                 12M    100000  Free     0   \n",
      "22        4.7    7699                4.2M    500000  Free     0   \n",
      "23        NaN      61                7.0M    100000  Free     0   \n",
      "24        4.7     118                 23M     50000  Free     0   \n",
      "25        4.8     192                6.0M     10000  Free     0   \n",
      "26        4.7   20260                 25M    500000  Free     0   \n",
      "27        4.1     203                6.1M    100000  Free     0   \n",
      "28        3.9     136                4.6M     10000  Free     0   \n",
      "29        4.1     223                4.2M    100000  Free     0   \n",
      "...       ...     ...                 ...       ...   ...   ...   \n",
      "10811     NaN       4                3.9M       100  Free     0   \n",
      "10812     4.1      80                 13M      1000  Free     0   \n",
      "10813     NaN      20                2.7M     10000  Free     0   \n",
      "10814     4.0     785                 31M     50000  Free     0   \n",
      "10815     4.2    5775                4.9M    500000  Free     0   \n",
      "10816     NaN       2                6.8M       100  Free     0   \n",
      "10817     4.0     885                8.0M    100000  Free     0   \n",
      "10818     NaN      96                1.5M     10000  Free     0   \n",
      "10819     3.3      52                3.6M      5000  Free     0   \n",
      "10820     5.0      22                8.6M      1000  Free     0   \n",
      "10821     NaN       6                2.5M        50  Free     0   \n",
      "10822     NaN       0                3.1M        10  Free     0   \n",
      "10823     NaN       1                2.9M       100  Free     0   \n",
      "10824     NaN      67                 82M     10000  Free     0   \n",
      "10825     NaN       7                7.7M       100  Free     0   \n",
      "10826     4.0   88486  Varies with device   5000000  Free     0   \n",
      "10827     4.2     117                 13M      5000  Free     0   \n",
      "10828     3.4     291                 13M     10000  Free     0   \n",
      "10829     4.6     603                7.4M     10000  Free     0   \n",
      "10830     3.8     881                2.3M    100000  Free     0   \n",
      "10831     NaN      38                9.8M      5000  Free     0   \n",
      "10832     3.8    1195                582k    100000  Free     0   \n",
      "10833     4.8      44                619k      1000  Free     0   \n",
      "10834     4.0       7                2.6M       500  Free     0   \n",
      "10835     NaN       0                9.6M        10  Free     0   \n",
      "10836     4.5      38                 53M      5000  Free     0   \n",
      "10837     5.0       4                3.6M       100  Free     0   \n",
      "10838     NaN       3                9.5M      1000  Free     0   \n",
      "10839     4.5     114  Varies with device      1000  Free     0   \n",
      "10840     4.5  398307                 19M  10000000  Free     0   \n",
      "\n",
      "      Content Rating                           Genres        Last Updated  \\\n",
      "0           Everyone                     Art & Design     January 7, 2018   \n",
      "1           Everyone        Art & Design;Pretend Play    January 15, 2018   \n",
      "2           Everyone                     Art & Design      August 1, 2018   \n",
      "3               Teen                     Art & Design        June 8, 2018   \n",
      "4           Everyone          Art & Design;Creativity       June 20, 2018   \n",
      "5           Everyone                     Art & Design      March 26, 2017   \n",
      "6           Everyone                     Art & Design      April 26, 2018   \n",
      "7           Everyone                     Art & Design       June 14, 2018   \n",
      "8           Everyone                     Art & Design  September 20, 2017   \n",
      "9           Everyone          Art & Design;Creativity        July 3, 2018   \n",
      "10          Everyone                     Art & Design    October 27, 2017   \n",
      "11          Everyone                     Art & Design       July 31, 2018   \n",
      "12              Teen                     Art & Design       April 2, 2018   \n",
      "13          Everyone                     Art & Design       June 26, 2018   \n",
      "14          Everyone                     Art & Design      August 3, 2018   \n",
      "15          Everyone                     Art & Design        June 6, 2018   \n",
      "16          Everyone                     Art & Design       July 31, 2018   \n",
      "17          Everyone                     Art & Design    November 7, 2017   \n",
      "18          Everyone                     Art & Design      August 3, 2018   \n",
      "19          Everyone                     Art & Design       July 30, 2018   \n",
      "20          Everyone                     Art & Design      April 20, 2018   \n",
      "21          Everyone                     Art & Design      March 20, 2018   \n",
      "22      Everyone 10+                     Art & Design       July 12, 2018   \n",
      "23          Everyone  Art & Design;Action & Adventure       March 7, 2018   \n",
      "24          Everyone                     Art & Design        July 7, 2018   \n",
      "25          Everyone                     Art & Design      April 25, 2018   \n",
      "26          Everyone          Art & Design;Creativity    October 11, 2017   \n",
      "27          Everyone                     Art & Design      March 21, 2018   \n",
      "28          Everyone                     Art & Design       July 12, 2018   \n",
      "29          Everyone                     Art & Design     August 22, 2017   \n",
      "...              ...                              ...                 ...   \n",
      "10811       Everyone                  Auto & Vehicles       July 24, 2018   \n",
      "10812       Everyone                        Education       June 13, 2018   \n",
      "10813       Everyone                         Business       July 17, 2018   \n",
      "10814           Teen                    Entertainment        June 3, 2015   \n",
      "10815       Everyone                Books & Reference       July 19, 2018   \n",
      "10816       Everyone                         Business      August 6, 2018   \n",
      "10817       Everyone                            Tools    October 30, 2015   \n",
      "10818       Everyone                          Finance        May 19, 2016   \n",
      "10819           Teen                Books & Reference      August 5, 2017   \n",
      "10820           Teen                        Education       June 27, 2018   \n",
      "10821       Everyone                    Entertainment        May 29, 2018   \n",
      "10822       Everyone                     Productivity    December 1, 2017   \n",
      "10823       Everyone          Video Players & Editors      April 22, 2018   \n",
      "10824       Everyone                          Medical       July 31, 2018   \n",
      "10825           Teen                           Social    February 2, 2018   \n",
      "10826     Mature 17+                           Social      March 23, 2018   \n",
      "10827       Everyone                        Education       June 13, 2018   \n",
      "10828       Everyone                           Comics        May 15, 2017   \n",
      "10829       Everyone                Books & Reference       June 19, 2016   \n",
      "10830       Everyone                 News & Magazines    January 20, 2014   \n",
      "10831       Everyone                Maps & Navigation       June 13, 2018   \n",
      "10832       Everyone                          Weather   February 16, 2014   \n",
      "10833       Everyone                Books & Reference      March 23, 2014   \n",
      "10834       Everyone                        Education       June 18, 2017   \n",
      "10835       Everyone                         Business  September 29, 2016   \n",
      "10836       Everyone                        Education       July 25, 2017   \n",
      "10837       Everyone                        Education        July 6, 2018   \n",
      "10838       Everyone                          Medical    January 20, 2017   \n",
      "10839     Mature 17+                Books & Reference    January 19, 2015   \n",
      "10840       Everyone                        Lifestyle       July 25, 2018   \n",
      "\n",
      "              Current Ver         Android Ver  \n",
      "0                   1.0.0        4.0.3 and up  \n",
      "1                   2.0.0        4.0.3 and up  \n",
      "2                   1.2.4        4.0.3 and up  \n",
      "3      Varies with device          4.2 and up  \n",
      "4                     1.1          4.4 and up  \n",
      "5                     1.0          2.3 and up  \n",
      "6                     1.1        4.0.3 and up  \n",
      "7                6.1.61.1          4.2 and up  \n",
      "8                   2.9.2          3.0 and up  \n",
      "9                     2.8        4.0.3 and up  \n",
      "10                  1.0.4          4.1 and up  \n",
      "11                 1.0.15          4.0 and up  \n",
      "12                    3.8          4.1 and up  \n",
      "13                  1.0.4          4.4 and up  \n",
      "14                  1.2.3          2.3 and up  \n",
      "15                    NaN          4.2 and up  \n",
      "16                    3.1          4.1 and up  \n",
      "17                    1.0          2.3 and up  \n",
      "18                  2.2.5        4.0.3 and up  \n",
      "19                  5.5.4          4.1 and up  \n",
      "20                    4.0          4.1 and up  \n",
      "21                    1.1        4.0.3 and up  \n",
      "22                2.2.6.2        4.0.3 and up  \n",
      "23                  1.0.0          4.1 and up  \n",
      "24                  1.1.3          4.1 and up  \n",
      "25                    1.5          3.0 and up  \n",
      "26                  1.0.8        4.0.3 and up  \n",
      "27                   1.03        4.0.3 and up  \n",
      "28                    6.0          2.3 and up  \n",
      "29                    1.0          2.3 and up  \n",
      "...                   ...                 ...  \n",
      "10811               1.3.6         4.4W and up  \n",
      "10812              2.0.20        4.0.3 and up  \n",
      "10813              2.1.10          4.1 and up  \n",
      "10814               1.3.1          3.0 and up  \n",
      "10815             7.0.4.6          4.2 and up  \n",
      "10816               2.1.8          4.1 and up  \n",
      "10817          1.0.612928          5.0 and up  \n",
      "10818                 2.3          2.2 and up  \n",
      "10819               0.3.4          4.1 and up  \n",
      "10820               3.8.0          4.1 and up  \n",
      "10821                 1.0        4.0.3 and up  \n",
      "10822                   1          4.4 and up  \n",
      "10823                 1.0        4.0.3 and up  \n",
      "10824               2.2.2          4.4 and up  \n",
      "10825                 1.0          4.0 and up  \n",
      "10826  Varies with device  Varies with device  \n",
      "10827              2.0.20        4.0.3 and up  \n",
      "10828               2.0.1          4.0 and up  \n",
      "10829                2.96          4.1 and up  \n",
      "10830                 1.5          1.6 and up  \n",
      "10831           2.0.148.0          4.0 and up  \n",
      "10832                 6.0          2.1 and up  \n",
      "10833                 0.8          2.2 and up  \n",
      "10834               1.0.0          4.1 and up  \n",
      "10835               1.1.5          4.0 and up  \n",
      "10836                1.48          4.1 and up  \n",
      "10837                 1.0          4.1 and up  \n",
      "10838                 1.0          2.2 and up  \n",
      "10839  Varies with device  Varies with device  \n",
      "10840  Varies with device  Varies with device  \n",
      "\n",
      "[9639 rows x 13 columns]\n"
     ]
    }
   ],
   "source": [
    "print (roti[roti.Installs < 1000000000])"
   ]
  },
  {
   "cell_type": "markdown",
   "metadata": {
    "colab_type": "text",
    "id": "nV_6BqNSIJAj"
   },
   "source": [
    "## Q9. Arrange top COMMUNICATION category apps from the highest number of reviews to the lowest! "
   ]
  },
  {
   "cell_type": "code",
   "execution_count": 20,
   "metadata": {
    "colab": {
     "base_uri": "https://localhost:8080/",
     "height": 359
    },
    "colab_type": "code",
    "id": "_H9Hws0xIXmk",
    "outputId": "ed7fbece-6758-43f2-df0c-540e4bc10add"
   },
   "outputs": [
    {
     "data": {
      "text/html": [
       "<div>\n",
       "<style scoped>\n",
       "    .dataframe tbody tr th:only-of-type {\n",
       "        vertical-align: middle;\n",
       "    }\n",
       "\n",
       "    .dataframe tbody tr th {\n",
       "        vertical-align: top;\n",
       "    }\n",
       "\n",
       "    .dataframe thead th {\n",
       "        text-align: right;\n",
       "    }\n",
       "</style>\n",
       "<table border=\"1\" class=\"dataframe\">\n",
       "  <thead>\n",
       "    <tr style=\"text-align: right;\">\n",
       "      <th></th>\n",
       "      <th>App</th>\n",
       "      <th>Reviews</th>\n",
       "    </tr>\n",
       "  </thead>\n",
       "  <tbody>\n",
       "    <tr>\n",
       "      <th>336</th>\n",
       "      <td>WhatsApp Messenger</td>\n",
       "      <td>69119316</td>\n",
       "    </tr>\n",
       "    <tr>\n",
       "      <th>335</th>\n",
       "      <td>Messenger â Text and Video Chat for Free</td>\n",
       "      <td>56642847</td>\n",
       "    </tr>\n",
       "    <tr>\n",
       "      <th>378</th>\n",
       "      <td>UC Browser - Fast Download Private &amp; Secure</td>\n",
       "      <td>17712922</td>\n",
       "    </tr>\n",
       "    <tr>\n",
       "      <th>406</th>\n",
       "      <td>BBM - Free Calls &amp; Messages</td>\n",
       "      <td>12842860</td>\n",
       "    </tr>\n",
       "    <tr>\n",
       "      <th>342</th>\n",
       "      <td>Viber Messenger</td>\n",
       "      <td>11334799</td>\n",
       "    </tr>\n",
       "    <tr>\n",
       "      <th>403</th>\n",
       "      <td>LINE: Free Calls &amp; Messages</td>\n",
       "      <td>10790289</td>\n",
       "    </tr>\n",
       "    <tr>\n",
       "      <th>391</th>\n",
       "      <td>Skype - free IM &amp; video calls</td>\n",
       "      <td>10484169</td>\n",
       "    </tr>\n",
       "    <tr>\n",
       "      <th>338</th>\n",
       "      <td>Google Chrome: Fast &amp; Secure</td>\n",
       "      <td>9642995</td>\n",
       "    </tr>\n",
       "    <tr>\n",
       "      <th>449</th>\n",
       "      <td>Truecaller: Caller ID, SMS spam blocking &amp; Dialer</td>\n",
       "      <td>7820209</td>\n",
       "    </tr>\n",
       "    <tr>\n",
       "      <th>365</th>\n",
       "      <td>WeChat</td>\n",
       "      <td>5387333</td>\n",
       "    </tr>\n",
       "  </tbody>\n",
       "</table>\n",
       "</div>"
      ],
      "text/plain": [
       "                                                   App   Reviews\n",
       "336                                 WhatsApp Messenger  69119316\n",
       "335         Messenger â Text and Video Chat for Free  56642847\n",
       "378        UC Browser - Fast Download Private & Secure  17712922\n",
       "406                        BBM - Free Calls & Messages  12842860\n",
       "342                                    Viber Messenger  11334799\n",
       "403                        LINE: Free Calls & Messages  10790289\n",
       "391                      Skype - free IM & video calls  10484169\n",
       "338                       Google Chrome: Fast & Secure   9642995\n",
       "449  Truecaller: Caller ID, SMS spam blocking & Dialer   7820209\n",
       "365                                             WeChat   5387333"
      ]
     },
     "execution_count": 20,
     "metadata": {},
     "output_type": "execute_result"
    }
   ],
   "source": [
    "roti['Reviews']=roti['Reviews'].astype(int)\n",
    "\n",
    "roti_com=roti[roti.Category=='COMMUNICATION']\n",
    "roti_review=roti_com.sort_values('Reviews', ascending=False)\n",
    "roti_review.loc[:, ['App', 'Reviews']].head(10)"
   ]
  },
  {
   "cell_type": "markdown",
   "metadata": {
    "colab_type": "text",
    "id": "-5UjW55YJCR8"
   },
   "source": [
    "## Q10. Top 3 game category apps based on number installed and rating\n",
    "* They are Subways Surfers, My Talking Tom, Candy Crush Saga"
   ]
  },
  {
   "cell_type": "code",
   "execution_count": 21,
   "metadata": {
    "colab": {
     "base_uri": "https://localhost:8080/",
     "height": 359
    },
    "colab_type": "code",
    "id": "FmKzYPYtJILK",
    "outputId": "8920e23e-f613-42cb-b7af-73c25563eebe"
   },
   "outputs": [
    {
     "data": {
      "text/html": [
       "<div>\n",
       "<style scoped>\n",
       "    .dataframe tbody tr th:only-of-type {\n",
       "        vertical-align: middle;\n",
       "    }\n",
       "\n",
       "    .dataframe tbody tr th {\n",
       "        vertical-align: top;\n",
       "    }\n",
       "\n",
       "    .dataframe thead th {\n",
       "        text-align: right;\n",
       "    }\n",
       "</style>\n",
       "<table border=\"1\" class=\"dataframe\">\n",
       "  <thead>\n",
       "    <tr style=\"text-align: right;\">\n",
       "      <th></th>\n",
       "      <th>App</th>\n",
       "      <th>Installs</th>\n",
       "      <th>Rating</th>\n",
       "    </tr>\n",
       "  </thead>\n",
       "  <tbody>\n",
       "    <tr>\n",
       "      <th>1654</th>\n",
       "      <td>Subway Surfers</td>\n",
       "      <td>1000000000</td>\n",
       "      <td>4.5</td>\n",
       "    </tr>\n",
       "    <tr>\n",
       "      <th>1722</th>\n",
       "      <td>My Talking Tom</td>\n",
       "      <td>500000000</td>\n",
       "      <td>4.5</td>\n",
       "    </tr>\n",
       "    <tr>\n",
       "      <th>1655</th>\n",
       "      <td>Candy Crush Saga</td>\n",
       "      <td>500000000</td>\n",
       "      <td>4.4</td>\n",
       "    </tr>\n",
       "    <tr>\n",
       "      <th>1661</th>\n",
       "      <td>Temple Run 2</td>\n",
       "      <td>500000000</td>\n",
       "      <td>4.3</td>\n",
       "    </tr>\n",
       "    <tr>\n",
       "      <th>1662</th>\n",
       "      <td>Pou</td>\n",
       "      <td>500000000</td>\n",
       "      <td>4.3</td>\n",
       "    </tr>\n",
       "    <tr>\n",
       "      <th>1763</th>\n",
       "      <td>Piano Tiles 2â¢</td>\n",
       "      <td>100000000</td>\n",
       "      <td>4.7</td>\n",
       "    </tr>\n",
       "    <tr>\n",
       "      <th>1660</th>\n",
       "      <td>Clash Royale</td>\n",
       "      <td>100000000</td>\n",
       "      <td>4.6</td>\n",
       "    </tr>\n",
       "    <tr>\n",
       "      <th>1670</th>\n",
       "      <td>Clash of Clans</td>\n",
       "      <td>100000000</td>\n",
       "      <td>4.6</td>\n",
       "    </tr>\n",
       "    <tr>\n",
       "      <th>1699</th>\n",
       "      <td>Sniper 3D Gun Shooter: Free Shooting Games - FPS</td>\n",
       "      <td>100000000</td>\n",
       "      <td>4.6</td>\n",
       "    </tr>\n",
       "    <tr>\n",
       "      <th>1709</th>\n",
       "      <td>Score! Hero</td>\n",
       "      <td>100000000</td>\n",
       "      <td>4.6</td>\n",
       "    </tr>\n",
       "  </tbody>\n",
       "</table>\n",
       "</div>"
      ],
      "text/plain": [
       "                                                   App    Installs  Rating\n",
       "1654                                    Subway Surfers  1000000000     4.5\n",
       "1722                                    My Talking Tom   500000000     4.5\n",
       "1655                                  Candy Crush Saga   500000000     4.4\n",
       "1661                                      Temple Run 2   500000000     4.3\n",
       "1662                                               Pou   500000000     4.3\n",
       "1763                                  Piano Tiles 2â¢   100000000     4.7\n",
       "1660                                      Clash Royale   100000000     4.6\n",
       "1670                                    Clash of Clans   100000000     4.6\n",
       "1699  Sniper 3D Gun Shooter: Free Shooting Games - FPS   100000000     4.6\n",
       "1709                                       Score! Hero   100000000     4.6"
      ]
     },
     "execution_count": 21,
     "metadata": {},
     "output_type": "execute_result"
    }
   ],
   "source": [
    "roti['Rating']=roti['Rating'].astype(float)\n",
    "\n",
    "roti_game=roti[roti.Category=='GAME']\n",
    "roti_game_sort=roti_game.sort_values(['Installs','Rating'], ascending=[False, False])\n",
    "roti_game_sort.loc[:, ['App', 'Installs', 'Rating']].head(10)"
   ]
  },
  {
   "cell_type": "code",
   "execution_count": 0,
   "metadata": {
    "colab": {},
    "colab_type": "code",
    "id": "qmutz4eKJeOJ"
   },
   "outputs": [],
   "source": []
  }
 ],
 "metadata": {
  "colab": {
   "collapsed_sections": [],
   "name": "Homework.ipynb",
   "provenance": []
  },
  "kernelspec": {
   "display_name": "Python 3",
   "language": "python",
   "name": "python3"
  },
  "language_info": {
   "codemirror_mode": {
    "name": "ipython",
    "version": 3
   },
   "file_extension": ".py",
   "mimetype": "text/x-python",
   "name": "python",
   "nbconvert_exporter": "python",
   "pygments_lexer": "ipython3",
   "version": "3.7.3"
  }
 },
 "nbformat": 4,
 "nbformat_minor": 1
}
